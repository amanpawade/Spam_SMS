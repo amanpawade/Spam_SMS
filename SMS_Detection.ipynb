{
  "nbformat": 4,
  "nbformat_minor": 0,
  "metadata": {
    "colab": {
      "provenance": [],
      "authorship_tag": "ABX9TyPxmevz46n6qnBK0qGRPLvZ",
      "include_colab_link": true
    },
    "kernelspec": {
      "name": "python3",
      "display_name": "Python 3"
    },
    "language_info": {
      "name": "python"
    }
  },
  "cells": [
    {
      "cell_type": "markdown",
      "metadata": {
        "id": "view-in-github",
        "colab_type": "text"
      },
      "source": [
        "<a href=\"https://colab.research.google.com/github/amanpawade/Spam_SMS/blob/main/SMS_Detection.ipynb\" target=\"_parent\"><img src=\"https://colab.research.google.com/assets/colab-badge.svg\" alt=\"Open In Colab\"/></a>"
      ]
    },
    {
      "cell_type": "markdown",
      "source": [
        "Mounting to Drive\n"
      ],
      "metadata": {
        "id": "Mu-Qvi9FsTfq"
      }
    },
    {
      "cell_type": "code",
      "execution_count": null,
      "metadata": {
        "colab": {
          "base_uri": "https://localhost:8080/"
        },
        "id": "YZooCJaVla27",
        "outputId": "2c861fad-61b0-4611-bd2f-fac64ceaf951"
      },
      "outputs": [
        {
          "output_type": "stream",
          "name": "stdout",
          "text": [
            "Mounted at /content/drive\n"
          ]
        }
      ],
      "source": [
        "from google.colab import drive\n",
        "drive.mount('/content/drive')"
      ]
    },
    {
      "cell_type": "markdown",
      "source": [
        " Load and preprocess data\n",
        ""
      ],
      "metadata": {
        "id": "qg4l2Jwdsk1N"
      }
    },
    {
      "cell_type": "code",
      "source": [
        "import pandas as pd\n",
        "import numpy as np\n",
        "from sklearn.model_selection import train_test_split, GridSearchCV\n",
        "from sklearn.feature_extraction.text import TfidfVectorizer\n",
        "from sklearn.naive_bayes import MultinomialNB\n",
        "from sklearn.ensemble import RandomForestClassifier\n",
        "from sklearn.metrics import accuracy_score, confusion_matrix, classification_report\n",
        "import joblib\n",
        "\n",
        "\n",
        "def load_data(filepath):\n",
        "\n",
        "    data = pd.read_csv('/content/drive/MyDrive/Spam_SMS_Detection/spam.csv', encoding='latin-1')\n",
        "\n",
        "\n",
        "    print(\"\\nColumns in CSV:\", data.columns)\n",
        "\n",
        "\n",
        "    if 'label' in data.columns and 'message' in data.columns:\n",
        "        data = data[['label', 'message']]\n",
        "    elif 'v1' in data.columns and 'v2' in data.columns:\n",
        "        data = data[['v1', 'v2']]\n",
        "        data.columns = ['label', 'message']\n",
        "    else:\n",
        "        raise ValueError(\"Unexpected column names. Check the CSV file.\")\n",
        "\n",
        "\n",
        "    data['label'] = data['label'].map({'ham': 0, 'spam': 1})\n",
        "\n",
        "    return data"
      ],
      "metadata": {
        "id": "TwFbiCYqlxCf"
      },
      "execution_count": null,
      "outputs": []
    },
    {
      "cell_type": "markdown",
      "source": [
        "Text vectorization"
      ],
      "metadata": {
        "id": "FdLT9j29sm-V"
      }
    },
    {
      "cell_type": "code",
      "source": [
        "def vectorize_text(X_train, X_test):\n",
        "    vectorizer = TfidfVectorizer(stop_words='english', max_features=3000, ngram_range=(1, 2))\n",
        "    X_train_tfidf = vectorizer.fit_transform(X_train)\n",
        "    X_test_tfidf = vectorizer.transform(X_test)\n",
        "    return X_train_tfidf, X_test_tfidf, vectorizer"
      ],
      "metadata": {
        "id": "dHwlvcUemLJp"
      },
      "execution_count": 24,
      "outputs": []
    },
    {
      "cell_type": "markdown",
      "source": [
        "Train and evaluate model"
      ],
      "metadata": {
        "id": "EOVwhErHsrdY"
      }
    },
    {
      "cell_type": "code",
      "source": [
        "def train_and_evaluate(X_train, y_train, X_test, y_test):\n",
        "\n",
        "\n",
        "    models = {\n",
        "        \"Naive Bayes\": MultinomialNB(),\n",
        "        \"Random Forest\": RandomForestClassifier(n_estimators=100, random_state=42)\n",
        "    }\n",
        "\n",
        "    best_model = None\n",
        "    best_accuracy = 0\n",
        "\n",
        "    for name, model in models.items():\n",
        "        model.fit(X_train, y_train)\n",
        "        y_pred = model.predict(X_test)\n",
        "\n",
        "        accuracy = accuracy_score(y_test, y_pred)\n",
        "        print(f\"\\n{name} Model Performance:\")\n",
        "        print(f\"Accuracy: {accuracy:.4f}\")\n",
        "        print(confusion_matrix(y_test, y_pred))\n",
        "        print(classification_report(y_test, y_pred))\n",
        "\n",
        "        if accuracy > best_accuracy:\n",
        "            best_accuracy = accuracy\n",
        "            best_model = model\n",
        "\n",
        "    return best_model"
      ],
      "metadata": {
        "id": "eSc5wQnFmNtA"
      },
      "execution_count": 25,
      "outputs": []
    },
    {
      "cell_type": "markdown",
      "source": [
        "Saving and loading model"
      ],
      "metadata": {
        "id": "d0H82OpAsu7E"
      }
    },
    {
      "cell_type": "code",
      "source": [
        "def save_model(model, vectorizer, model_path=\"spam_model.pkl\", vec_path=\"vectorizer.pkl\"):\n",
        "\n",
        "    joblib.dump(model, model_path)\n",
        "    joblib.dump(vectorizer, vec_path)\n",
        "    print(\"\\nModel and Vectorizer saved successfully!\")\n",
        "\n",
        "def load_model(model_path=\"spam_model.pkl\", vec_path=\"vectorizer.pkl\"):\n",
        "\n",
        "    model = joblib.load(model_path)\n",
        "    vectorizer = joblib.load(vec_path)\n",
        "    return model, vectorizer"
      ],
      "metadata": {
        "id": "F0V9eGGqmRDR"
      },
      "execution_count": 26,
      "outputs": []
    },
    {
      "cell_type": "markdown",
      "source": [
        " Predict function"
      ],
      "metadata": {
        "id": "ANmx-GpYs0gN"
      }
    },
    {
      "cell_type": "code",
      "source": [
        "def predict_sms(message, model, vectorizer):\n",
        "\n",
        "    message_tfidf = vectorizer.transform([message])\n",
        "    prediction = model.predict(message_tfidf)\n",
        "    return \"Spam\" if prediction[0] == 1 else \"Not Spam\""
      ],
      "metadata": {
        "id": "6WqD90ehmYFL"
      },
      "execution_count": 27,
      "outputs": []
    },
    {
      "cell_type": "markdown",
      "source": [
        "Main Execution"
      ],
      "metadata": {
        "id": "9S4YAskys338"
      }
    },
    {
      "cell_type": "code",
      "source": [
        "if __name__ == \"__main__\":\n",
        "\n",
        "    file_path = \"/content/drive/MyDrive/Spam_SMS_Detection/spam.csv\"\n",
        "\n",
        "\n",
        "    data = load_data(file_path)\n",
        "\n",
        "\n",
        "    X_train, X_test, y_train, y_test = train_test_split(data['message'], data['label'], test_size=0.2, random_state=42)\n",
        "\n",
        "\n",
        "    X_train_tfidf, X_test_tfidf, vectorizer = vectorize_text(X_train, X_test)\n",
        "\n",
        "\n",
        "    best_model = train_and_evaluate(X_train_tfidf, y_train, X_test_tfidf, y_test)\n",
        "\n",
        "\n",
        "    save_model(best_model, vectorizer)\n",
        "\n",
        "\n",
        "    model, vectorizer = load_model()\n",
        "\n"
      ],
      "metadata": {
        "colab": {
          "base_uri": "https://localhost:8080/"
        },
        "id": "ZU5m_gYPmlCf",
        "outputId": "605fb401-b1ee-4ac4-badf-33941881b1d7"
      },
      "execution_count": 28,
      "outputs": [
        {
          "output_type": "stream",
          "name": "stdout",
          "text": [
            "\n",
            "Columns in CSV: Index(['v1', 'v2', 'Unnamed: 2', 'Unnamed: 3', 'Unnamed: 4'], dtype='object')\n",
            "\n",
            "Naive Bayes Model Performance:\n",
            "Accuracy: 0.9731\n",
            "[[965   0]\n",
            " [ 30 120]]\n",
            "              precision    recall  f1-score   support\n",
            "\n",
            "           0       0.97      1.00      0.98       965\n",
            "           1       1.00      0.80      0.89       150\n",
            "\n",
            "    accuracy                           0.97      1115\n",
            "   macro avg       0.98      0.90      0.94      1115\n",
            "weighted avg       0.97      0.97      0.97      1115\n",
            "\n",
            "\n",
            "Random Forest Model Performance:\n",
            "Accuracy: 0.9776\n",
            "[[960   5]\n",
            " [ 20 130]]\n",
            "              precision    recall  f1-score   support\n",
            "\n",
            "           0       0.98      0.99      0.99       965\n",
            "           1       0.96      0.87      0.91       150\n",
            "\n",
            "    accuracy                           0.98      1115\n",
            "   macro avg       0.97      0.93      0.95      1115\n",
            "weighted avg       0.98      0.98      0.98      1115\n",
            "\n",
            "\n",
            "Model and Vectorizer saved successfully!\n"
          ]
        }
      ]
    },
    {
      "cell_type": "markdown",
      "source": [
        "Taking User Input to detect spam / not spam messages"
      ],
      "metadata": {
        "id": "r5VdRUzDtAA7"
      }
    },
    {
      "cell_type": "code",
      "source": [
        "while True:\n",
        "    user_message = input(\"\\nEnter an SMS to classify (or type 'exit' to quit): \").strip()\n",
        "\n",
        "    if user_message.lower() == 'exit':\n",
        "        print(\"Exiting...\")\n",
        "        break\n",
        "\n",
        "    prediction = predict_sms(user_message, model, vectorizer)\n",
        "    print(f\"Prediction: {prediction}\")"
      ],
      "metadata": {
        "colab": {
          "base_uri": "https://localhost:8080/"
        },
        "id": "xmf23bJrm5iY",
        "outputId": "1889a39a-9b76-4e65-b1e4-b7b844b2582c"
      },
      "execution_count": 29,
      "outputs": [
        {
          "output_type": "stream",
          "name": "stdout",
          "text": [
            "\n",
            "Enter an SMS to classify (or type 'exit' to quit): Hi \n",
            "Prediction: Not Spam\n",
            "\n",
            "Enter an SMS to classify (or type 'exit' to quit): Congratulations! You've won a $1000 gift card. Click here to claim your prize:\n",
            "Prediction: Spam\n",
            "\n",
            "Enter an SMS to classify (or type 'exit' to quit): exit\n",
            "Exiting...\n"
          ]
        }
      ]
    },
    {
      "cell_type": "code",
      "source": [],
      "metadata": {
        "id": "J5etevXYo-Lt"
      },
      "execution_count": null,
      "outputs": []
    }
  ]
}